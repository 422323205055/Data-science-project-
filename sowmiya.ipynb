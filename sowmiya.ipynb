{
  "nbformat": 4,
  "nbformat_minor": 0,
  "metadata": {
    "colab": {
      "provenance": []
    },
    "kernelspec": {
      "name": "python3",
      "display_name": "Python 3"
    },
    "language_info": {
      "name": "python"
    }
  },
  "cells": [
    {
      "cell_type": "code",
      "execution_count": 4,
      "metadata": {
        "colab": {
          "base_uri": "https://localhost:8080/"
        },
        "id": "8XNMUzGuTe_n",
        "outputId": "0f223ac1-6622-414b-b024-6d93bc0f6aa5"
      },
      "outputs": [
        {
          "output_type": "stream",
          "name": "stderr",
          "text": [
            "[nltk_data] Downloading package punkt to /root/nltk_data...\n",
            "[nltk_data]   Package punkt is already up-to-date!\n"
          ]
        }
      ],
      "source": [
        "import nltk\n",
        "from nltk.chat.util import Chat, reflections\n",
        "from tkinter import scrolledtext\n",
        "\n",
        "# Download NLTK resources\n",
        "nltk.download('punkt')\n",
        "\n",
        "# Define simple chatbot pairs (pattern-response)\n",
        "pairs = [\n",
        "    [r\"hi|hello|hey\", [\"Hello! How can I help you today?\"]],\n",
        "    [r\"my name is (.*)\", [\"Hi %1, how can I assist you?\"]],\n",
        "    [r\"(.*) help (.*)\", [\"Sure, I'm here to help. What do you need assistance with?\"]],\n",
        "    [r\"(.*) your name?\", [\"I am an AI-powered support chatbot.\"]],\n",
        "    [r\"how are you?\", [\"I'm functioning at full capacity! How can I help you today?\"]],\n",
        "    [r\"(.*) (location|city)\", [\"I'm based in the cloud, available anytime, anywhere.\"]],\n",
        "    [r\"quit\", [\"Thank you for chatting. Goodbye!\"]],\n",
        "    [r\"(.*)\", [\"I'm not sure I understand. Can you please elaborate?\"]],\n",
        "]\n",
        "\n",
        "# Create chatbot\n",
        "chatbot = Chat(pairs, reflections)\n",
        "\n",
        "\n"
      ]
    }
  ]
}